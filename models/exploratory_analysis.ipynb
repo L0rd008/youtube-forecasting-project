{
 "cells": [
  {
   "cell_type": "markdown",
   "metadata": {},
   "source": [
    "# YouTube Sri Lankan Content Analysis\n",
    "\n",
    "This notebook demonstrates exploratory data analysis of YouTube videos from Sri Lankan channels using the collected and processed data."
   ]
  },
  {
   "cell_type": "markdown",
   "metadata": {},
   "source": [
    "## Setup and Data Loading"
   ]
  },
  {
   "cell_type": "code",
   "execution_count": null,
   "metadata": {},
   "outputs": [],
   "source": [
    "import pandas as pd\n",
    "import numpy as np\n",
    "import matplotlib.pyplot as plt\n",
    "import seaborn as sns\n",
    "import plotly.express as px\n",
    "import plotly.graph_objects as go\n",
    "from plotly.subplots import make_subplots\n",
    "import warnings\n",
    "warnings.filterwarnings('ignore')\n",
    "\n",
    "# Set style\n",
    "plt.style.use('seaborn-v0_8')\n",
    "sns.set_palette(\"husl\")\n",
    "\n",
    "# Display options\n",
    "pd.set_option('display.max_columns', None)\n",
    "pd.set_option('display.width', None)\n",
    "pd.set_option('display.max_colwidth', 50)"
   ]
  },
  {
   "cell_type": "code",
   "execution_count": null,
   "metadata": {},
   "outputs": [],
   "source": [
    "# Load processed data\n",
    "import sys\n",
    "import os\n",
    "sys.path.append('../scripts')\n",
    "\n",
    "from utils import load_from_csv\n",
    "\n",
    "# Load the most recent processed data file\n",
    "processed_files = [f for f in os.listdir('../data/processed') if f.startswith('processed_videos_') and f.endswith('.csv')]\n",
    "\n",
    "if processed_files:\n",
    "    latest_file = max(processed_files)\n",
    "    df = load_from_csv(f'../data/processed/{latest_file}')\n",
    "    print(f\"Loaded {len(df)} videos from {latest_file}\")\n",
    "    print(f\"Dataset shape: {df.shape}\")\n",
    "else:\n",
    "    print(\"No processed data files found. Please run process_data.py first.\")\n",
    "    # Create sample data for demonstration\n",
    "    df = pd.DataFrame({\n",
    "        'video_id': ['sample_1', 'sample_2'],\n",
    "        'title': ['Sample Video 1', 'Sample Video 2'],\n",
    "        'view_count': [1000, 2000],\n",
    "        'like_count': [50, 100],\n",
    "        'comment_count': [10, 20]\n",
    "    })"
   ]
  },
  {
   "cell_type": "markdown",
   "metadata": {},
   "source": [
    "## Data Overview"
   ]
  },
  {
   "cell_type": "code",
   "execution_count": null,
   "metadata": {},
   "outputs": [],
   "source": [
    "# Basic information about the dataset\n",
    "print(\"Dataset Info:\")\n",
    "print(f\"Total videos: {len(df)}\")\n",
    "print(f\"Total features: {len(df.columns)}\")\n",
    "print(f\"Memory usage: {df.memory_usage(deep=True).sum() / 1024**2:.2f} MB\")\n",
    "\n",
    "if 'published_at' in df.columns:\n",
    "    df['published_at'] = pd.to_datetime(df['published_at'])\n",
    "    print(f\"Date range: {df['published_at'].min()} to {df['published_at'].max()}\")\n",
    "\n",
    "print(\"\\nColumn types:\")\n",
    "print(df.dtypes.value_counts())"
   ]
  },
  {
   "cell_type": "code",
   "execution_count": null,
   "metadata": {},
   "outputs": [],
   "source": [
    "# Display first few rows\n",
    "df.head()"
   ]
  },
  {
   "cell_type": "code",
   "execution_count": null,
   "metadata": {},
   "outputs": [],
   "source": [
    "# Basic statistics for numeric columns\n",
    "numeric_cols = df.select_dtypes(include=[np.number]).columns\n",
    "df[numeric_cols].describe()"
   ]
  },
  {
   "cell_type": "markdown",
   "metadata": {},
   "source": [
    "## Channel Category Analysis"
   ]
  },
  {
   "cell_type": "code",
   "execution_count": null,
   "metadata": {},
   "outputs": [],
   "source": [
    "if 'channel_category' in df.columns:\n",
    "    # Videos by category\n",
    "    category_counts = df['channel_category'].value_counts()\n",
    "    \n",
    "    fig, (ax1, ax2) = plt.subplots(1, 2, figsize=(15, 6))\n",
    "    \n",
    "    # Bar plot\n",
    "    category_counts.plot(kind='bar', ax=ax1, color='skyblue')\n",
    "    ax1.set_title('Number of Videos by Category')\n",
    "    ax1.set_xlabel('Category')\n",
    "    ax1.set_ylabel('Number of Videos')\n",
    "    ax1.tick_params(axis='x', rotation=45)\n",
    "    \n",
    "    # Pie chart\n",
    "    ax2.pie(category_counts.values, labels=category_counts.index, autopct='%1.1f%%')\n",
    "    ax2.set_title('Distribution of Videos by Category')\n",
    "    \n",
    "    plt.tight_layout()\n",
    "    plt.show()\n",
    "    \n",
    "    print(\"Videos by category:\")\n",
    "    for category, count in category_counts.items():\n",
    "        print(f\"  {category}: {count} videos ({count/len(df)*100:.1f}%)\")\n",
    "else:\n",
    "    print(\"Channel category information not available\")"
   ]
  },
  {
   "cell_type": "markdown",
   "metadata": {},
   "source": [
    "## Performance Metrics Analysis"
   ]
  },
  {
   "cell_type": "code",
   "execution_count": null,
   "metadata": {},
   "outputs": [],
   "source": [
    "# Performance metrics by category\n",
    "if 'channel_category' in df.columns and all(col in df.columns for col in ['view_count', 'like_count', 'comment_count']):\n",
    "    performance_by_category = df.groupby('channel_category').agg({\n",
    "        'view_count': ['mean', 'median', 'std'],\n",
    "        'like_count': ['mean', 'median'],\n",
    "        'comment_count': ['mean', 'median'],\n",
    "        'engagement_ratio': ['mean', 'median'] if 'engagement_ratio' in df.columns else ['count']\n",
    "    }).round(2)\n",
    "    \n",
    "    print(\"Performance metrics by category:\")\n",
    "    print(performance_by_category)\n",
    "    \n",
    "    # Visualize average views by category\n",
    "    avg_views = df.groupby('channel_category')['view_count'].mean().sort_values(ascending=False)\n",
    "    \n",
    "    plt.figure(figsize=(12, 6))\n",
    "    avg_views.plot(kind='bar', color='lightcoral')\n",
    "    plt.title('Average Views by Channel Category')\n",
    "    plt.xlabel('Category')\n",
    "    plt.ylabel('Average Views')\n",
    "    plt.xticks(rotation=45)\n",
    "    plt.tight_layout()\n",
    "    plt.show()"
   ]
  },
  {
   "cell_type": "markdown",
   "metadata": {},
   "source": [
    "## Engagement Analysis"
   ]
  },
  {
   "cell_type": "code",
   "execution_count": null,
   "metadata": {},
   "outputs": [],
   "source": [
    "if all(col in df.columns for col in ['view_count', 'like_count', 'comment_count']):\n",
    "    # Calculate engagement metrics if not already present\n",
    "    if 'engagement_ratio' not in df.columns:\n",
    "        df['like_ratio'] = df['like_count'] / (df['view_count'] + 1)\n",
    "        df['comment_ratio'] = df['comment_count'] / (df['view_count'] + 1)\n",
    "        df['engagement_ratio'] = (df['like_count'] + df['comment_count']) / (df['view_count'] + 1)\n",
    "    \n",
    "    # Engagement distribution\n",
    "    fig, axes = plt.subplots(2, 2, figsize=(15, 10))\n",
    "    \n",
    "    # Views distribution\n",
    "    axes[0,0].hist(np.log10(df['view_count'] + 1), bins=30, alpha=0.7, color='blue')\n",
    "    axes[0,0].set_title('Distribution of Views (log scale)')\n",
    "    axes[0,0].set_xlabel('Log10(Views + 1)')\n",
    "    axes[0,0].set_ylabel('Frequency')\n",
    "    \n",
    "    # Likes vs Views scatter\n",
    "    axes[0,1].scatter(np.log10(df['view_count'] + 1), np.log10(df['like_count'] + 1), alpha=0.5)\n",
    "    axes[0,1].set_title('Likes vs Views (log scale)')\n",
    "    axes[0,1].set_xlabel('Log10(Views + 1)')\n",
    "    axes[0,1].set_ylabel('Log10(Likes + 1)')\n",
    "    \n",
    "    # Engagement ratio distribution\n",
    "    axes[1,0].hist(df['engagement_ratio'], bins=30, alpha=0.7, color='green')\n",
    "    axes[1,0].set_title('Distribution of Engagement Ratio')\n",
    "    axes[1,0].set_xlabel('Engagement Ratio')\n",
    "    axes[1,0].set_ylabel('Frequency')\n",
    "    \n",
    "    # Comments vs Views scatter\n",
    "    axes[1,1].scatter(np.log10(df['view_count'] + 1), np.log10(df['comment_count'] + 1), alpha=0.5, color='red')\n",
    "    axes[1,1].set_title('Comments vs Views (log scale)')\n",
    "    axes[1,1].set_xlabel('Log10(Views + 1)')\n",
    "    axes[1,1].set_ylabel('Log10(Comments + 1)')\n",
    "    \n",
    "    plt.tight_layout()\n",
    "    plt.show()\n",
    "    \n",
    "    # Top performing videos\n",
    "    print(\"\\nTop 10 videos by views:\")\n",
    "    top_videos = df.nlargest(10, 'view_count')[['title', 'channel_title', 'view_count', 'like_count', 'comment_count']]\n",
    "    for idx, row in top_videos.iterrows():\n",
    "        print(f\"  {row['title'][:50]}... - {row['view_count']:,} views\")"
   ]
  },
  {
   "cell_type": "markdown",
   "metadata": {},
   "source": [
    "## Temporal Analysis"
   ]
  },
  {
   "cell_type": "code",
   "execution_count": null,
   "metadata": {},
   "outputs": [],
   "source": [
    "if 'published_at' in df.columns:\n",
    "    # Publishing patterns\n",
    "    df['publish_hour'] = df['published_at'].dt.hour\n",
    "    df['publish_day'] = df['published_at'].dt.day_name()\n",
    "    df['publish_month'] = df['published_at'].dt.month_name()\n",
    "    \n",
    "    fig, axes = plt.subplots(2, 2, figsize=(15, 10))\n",
    "    \n",
    "    # Publishing by hour\n",
    "    hourly_counts = df['publish_hour'].value_counts().sort_index()\n",
    "    axes[0,0].bar(hourly_counts.index, hourly_counts.values, color='lightblue')\n",
    "    axes[0,0].set_title('Videos Published by Hour of Day')\n",
    "    axes[0,0].set_xlabel('Hour')\n",
    "    axes[0,0].set_ylabel('Number of Videos')\n",
    "    \n",
    "    # Publishing by day of week\n",
    "    day_order = ['Monday', 'Tuesday', 'Wednesday', 'Thursday', 'Friday', 'Saturday', 'Sunday']\n",
    "    daily_counts = df['publish_day'].value_counts().reindex(day_order)\n",
    "    axes[0,1].bar(range(len(daily_counts)), daily_counts.values, color='lightgreen')\n",
    "    axes[0,1].set_title('Videos Published by Day of Week')\n",
    "    axes[0,1].set_xlabel('Day')\n",
    "    axes[0,1].set_ylabel('Number of Videos')\n",
    "    axes[0,1].set_xticks(range(len(day_order)))\n",
    "    axes[0,1].set_xticklabels([d[:3] for d in day_order])\n",
    "    \n",
    "    # Average views by hour\n",
    "    hourly_views = df.groupby('publish_hour')['view_count'].mean()\n",
    "    axes[1,0].plot(hourly_views.index, hourly_views.values, marker='o', color='orange')\n",
    "    axes[1,0].set_title('Average Views by Publishing Hour')\n",
    "    axes[1,0].set_xlabel('Hour')\n",
    "    axes[1,0].set_ylabel('Average Views')\n",
    "    \n",
    "    # Average views by day\n",
    "    daily_views = df.groupby('publish_day')['view_count'].mean().reindex(day_order)\n",
    "    axes[1,1].bar(range(len(daily_views)), daily_views.values, color='coral')\n",
    "    axes[1,1].set_title('Average Views by Day of Week')\n",
    "    axes[1,1].set_xlabel('Day')\n",
    "    axes[1,1].set_ylabel('Average Views')\n",
    "    axes[1,1].set_xticks(range(len(day_order)))\n",
    "    axes[1,1].set_xticklabels([d[:3] for d in day_order])\n",
    "    \n",
    "    plt.tight_layout()\n",
    "    plt.show()\n",
    "    \n",
    "    # Best times to publish\n",
    "    print(\"\\nBest publishing times (by average views):\")\n",
    "    print(f\"  Best hour: {hourly_views.idxmax()}:00 ({hourly_views.max():.0f} avg views)\")\n",
    "    print(f\"  Best day: {daily_views.idxmax()} ({daily_views.max():.0f} avg views)\")"
   ]
  },
  {
   "cell_type": "markdown",
   "metadata": {},
   "source": [
    "## Content Analysis"
   ]
  },
  {
   "cell_type": "code",
   "execution_count": null,
   "metadata": {},
   "outputs": [],
   "source": [
    "if 'title' in df.columns:\n",
    "    # Title length analysis\n",
    "    if 'title_length' not in df.columns:\n",
    "        df['title_length'] = df['title'].str.len()\n",
    "    \n",
    "    fig, axes = plt.subplots(1, 2, figsize=(15, 5))\n",
    "    \n",
    "    # Title length distribution\n",
    "    axes[0].hist(df['title_length'], bins=30, alpha=0.7, color='purple')\n",
    "    axes[0].set_title('Distribution of Title Lengths')\n",
    "    axes[0].set_xlabel('Title Length (characters)')\n",
    "    axes[0].set_ylabel('Frequency')\n",
    "    \n",
    "    # Title length vs views\n",
    "    axes[1].scatter(df['title_length'], np.log10(df['view_count'] + 1), alpha=0.5)\n",
    "    axes[1].set_title('Title Length vs Views')\n",
    "    axes[1].set_xlabel('Title Length (characters)')\n",
    "    axes[1].set_ylabel('Log10(Views + 1)')\n",
    "    \n",
    "    plt.tight_layout()\n",
    "    plt.show()\n",
    "    \n",
    "    # Optimal title length\n",
    "    title_length_bins = pd.cut(df['title_length'], bins=5)\n",
    "    avg_views_by_length = df.groupby(title_length_bins)['view_count'].mean()\n",
    "    \n",
    "    print(\"\\nAverage views by title length:\")\n",
    "    for length_range, avg_views in avg_views_by_length.items():\n",
    "        print(f\"  {length_range}: {avg_views:.0f} views\")"
   ]
  },
  {
   "cell_type": "markdown",
   "metadata": {},
   "source": [
    "## Predictive Features Analysis"
   ]
  },
  {
   "cell_type": "code",
   "execution_count": null,
   "metadata": {},
   "outputs": [],
   "source": [
    "# Correlation analysis of key features\n",
    "if len(numeric_cols) > 5:\n",
    "    # Select key features for correlation\n",
    "    key_features = ['view_count', 'like_count', 'comment_count', 'duration_seconds']\n",
    "    if 'engagement_ratio' in df.columns:\n",
    "        key_features.append('engagement_ratio')\n",
    "    if 'title_length' in df.columns:\n",
    "        key_features.append('title_length')\n",
    "    \n",
    "    available_features = [f for f in key_features if f in df.columns]\n",
    "    \n",
    "    if len(available_features) > 2:\n",
    "        correlation_matrix = df[available_features].corr()\n",
    "        \n",
    "        plt.figure(figsize=(10, 8))\n",
    "        sns.heatmap(correlation_matrix, annot=True, cmap='coolwarm', center=0)\n",
    "        plt.title('Correlation Matrix of Key Features')\n",
    "        plt.tight_layout()\n",
    "        plt.show()\n",
    "        \n",
    "        print(\"\\nStrongest correlations with view_count:\")\n",
    "        view_correlations = correlation_matrix['view_count'].abs().sort_values(ascending=False)\n",
    "        for feature, corr in view_correlations.items():\n",
    "            if feature != 'view_count':\n",
    "                print(f\"  {feature}: {corr:.3f}\")"
   ]
  },
  {
   "cell_type": "markdown",
   "metadata": {},
   "source": [
    "## Summary and Insights"
   ]
  },
  {
   "cell_type": "code",
   "execution_count": null,
   "metadata": {},
   "outputs": [],
   "source": [
    "print(\"=== ANALYSIS SUMMARY ===\")\n",
    "print(f\"Dataset contains {len(df)} videos with {len(df.columns)} features\")\n",
    "\n",
    "if 'view_count' in df.columns:\n",
    "    print(f\"\\nViewership Statistics:\")\n",
    "    print(f\"  Average views: {df['view_count'].mean():.0f}\")\n",
    "    print(f\"  Median views: {df['view_count'].median():.0f}\")\n",
    "    print(f\"  Most viewed video: {df['view_count'].max():,} views\")\n",
    "\n",
    "if 'channel_category' in df.columns:\n",
    "    most_common_category = df['channel_category'].mode()[0]\n",
    "    print(f\"\\nMost common category: {most_common_category}\")\n",
    "    \n",
    "    if 'view_count' in df.columns:\n",
    "        best_category = df.groupby('channel_category')['view_count'].mean().idxmax()\n",
    "        print(f\"Best performing category: {best_category}\")\n",
    "\n",
    "print(\"\\n=== RECOMMENDATIONS ===\")\n",
    "print(\"1. Focus on high-performing categories for content strategy\")\n",
    "print(\"2. Optimize publishing times based on temporal analysis\")\n",
    "print(\"3. Use title length insights for content optimization\")\n",
    "print(\"4. Monitor engagement ratios for content quality assessment\")\n",
    "print(\"5. Use correlation insights for predictive modeling\")"
   ]
  }
 ],
 "metadata": {
  "kernelspec": {
   "display_name": "Python 3",
   "language": "python",
   "name": "python3"
  },
  "language_info": {
   "codemirror_mode": {
    "name": "ipython",
    "version": 3
   },
   "file_extension": ".py",
   "mimetype": "text/x-python",
   "name": "python",
   "nbconvert_exporter": "python",
   "pygments_lexer": "ipython3",
   "version": "3.8.0"
  }
 },
 "nbformat": 4,
 "nbformat_minor": 4
}
