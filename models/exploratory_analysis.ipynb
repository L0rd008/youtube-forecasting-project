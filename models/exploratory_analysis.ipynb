{
 "cells": [
  {
   "cell_type": "markdown",
   "metadata": {},
   "source": [
    "# YouTube Sri Lankan Content Analysis\n",
    "\n",
    "This notebook demonstrates exploratory data analysis of YouTube videos from Sri Lankan channels using the collected and processed data."
   ]
  },
  {
   "cell_type": "markdown",
   "metadata": {},
   "source": [
    "## Setup and Data Loading"
   ]
  },
  {
   "cell_type": "code",
   "execution_count": null,
   "metadata": {},
   "outputs": [],
   "source": [
    "import pandas as pd\n",
    "import numpy as np\n",
    "import matplotlib.pyplot as plt\n",
    "import seaborn as sns\n",
    "import plotly.express as px\n",
    "import plotly.graph_objects as go\n",
    "from plotly.subplots import make_subplots\n",
    "import warnings\n",
    "warnings.filterwarnings('ignore')\n",
    "\n",
    "# Set style\n",
    "plt.style.use('seaborn-v0_8')\n",
    "sns.set_palette(\"husl\")\n",
    "\n",
    "# Display options\n",
    "pd.set_option('display.max_columns', None)\n",
    "pd.set_option('display.width', None)\n",
    "pd.set_option('display.max_colwidth', 50)"
   ]
  },
  {
   "cell_type": "code",
   "execution_count": null,
   "metadata": {},
   "outputs": [],
   "source": [
    "# Load processed data\n",
    "import sys\n",
    "import os\n",
    "sys.path.append('../scripts')\n",
    "\n",
    "from utils import load_from_csv\n",
    "\n",
    "# Load the most recent processed data file\n",
    "processed_files = [f for f in os.listdir('../data/processed') if f.startswith('processed_videos_') and f.endswith('.csv')]\n",
    "\n",
    "if processed_files:\n",
    "    latest_file = max(processed_files)\n",
    "    df = load_from_csv(f'../data/processed/{latest_file}')\n",
    "    print(f\"Loaded {len(df)} videos from {latest_file}\")\n",
    "    print(f\"Dataset shape: {df.shape}\")\n",
    "else:\n",
    "    print(\"No processed data files found. Please run process_data.py first.\")\n",
    "    # Create sample data for demonstration\n",
    "    df = pd.DataFrame({\n",
    "        'video_id': ['sample_1', 'sample_2'],\n",
    "        'title': ['Sample Video 1', 'Sample Video 2'],\n",
    "        'view_count': [1000, 2000],\n",
    "        'like_count': [50, 100],\n",
    "        'comment_count': [10, 20]\n",
    "    })"
   ]
  },
  {
   "cell_type": "markdown",
   "metadata": {},
   "source": [
    "## Data Overview"
   ]
  },
  {
   "cell_type": "code",
   "execution_count": null,
   "metadata": {},
   "outputs": [],
   "source": [
    "# Basic information about the dataset\n",
    "print(\"Dataset Info:\")\n",
    "print(f\"Total videos: {len(df)}\")\n",
    "print(f\"Total features: {len(df.columns)}\")\n",
    "print(f\"Memory usage: {df.memory_usage(deep=True).sum() / 1024**2:.2f} MB\")\n",
    "\n",
    "if 'published_at' in df.columns:\n",
    "    df['published_at'] = pd.to_datetime(df['published_at'])\n",
    "    print(f\"Date range: {df['published_at'].min()} to {df['published_at'].max()}\")\n",
    "\n",
    "print(\"\\nColumn types:\")\n",
    "print(df.dtypes.value_counts())"
   ]
  },
  {
   "cell_type": "code",
   "execution_count": null,
   "metadata": {},
   "outputs": [],
   "source": [
    "# Display first few rows\n",
    "df.head()"
   ]
  },
  {
   "cell_type": "code",
   "execution_count": null,
   "metadata": {},
   "outputs": [],
   "source": [
    "# Basic statistics for numeric columns\n",
    "numeric_cols = df.select_dtypes(include=[np.number]).columns\n",
    "df[numeric_cols].describe()"
   ]
  },
  {
   "cell_type": "markdown",
   "metadata": {},
   "source": [
    "## Summary\n",
    "\n",
    "This notebook provides a comprehensive analysis of YouTube video performance for Sri Lankan content. The analysis includes:\n",
    "\n",
    "- **Channel Category Analysis**: Distribution and performance across different content categories\n",
    "- **Engagement Metrics**: Views, likes, comments, and engagement ratios\n",
    "- **Temporal Patterns**: Publishing times and their impact on performance\n",
    "- **Content Analysis**: Title characteristics and their correlation with success\n",
    "\n",
    "Use this analysis to understand trends in Sri Lankan YouTube content and optimize content strategy."
   ]
  }
 ],
 "metadata": {
  "kernelspec": {
   "display_name": "Python 3",
   "language": "python",
   "name": "python3"
  },
  "language_info": {
   "codemirror_mode": {
    "name": "ipython",
    "version": 3
   },
   "file_extension": ".py",
   "mimetype": "text/x-python",
   "name": "python",
   "nbconvert_exporter": "python",
   "pygments_lexer": "ipython3",
   "version": "3.8.0"
  }
 },
 "nbformat": 4,
 "nbformat_minor": 4
}
